{
 "cells": [
  {
   "cell_type": "code",
   "execution_count": 22,
   "metadata": {
    "scrolled": true
   },
   "outputs": [
    {
     "name": "stdout",
     "output_type": "stream",
     "text": [
      "_________________________________________________________________\n",
      "Layer (type)                 Output Shape              Param #   \n",
      "=================================================================\n",
      "dense_26 (Dense)             (None, 128)               100480    \n",
      "_________________________________________________________________\n",
      "dense_27 (Dense)             (None, 128)               16512     \n",
      "_________________________________________________________________\n",
      "dense_28 (Dense)             (None, 10)                1290      \n",
      "=================================================================\n",
      "Total params: 118,282\n",
      "Trainable params: 118,282\n",
      "Non-trainable params: 0\n",
      "_________________________________________________________________\n",
      "Train on 55000 samples, validate on 5000 samples\n",
      "Epoch 1/10\n",
      "55000/55000 [==============================] - 9s 162us/step - loss: 0.7577 - categorical_accuracy: 0.7441 - val_loss: 0.8926 - val_categorical_accuracy: 0.7346cal_\n",
      "Epoch 2/10\n",
      "55000/55000 [==============================] - 7s 134us/step - loss: 0.4617 - categorical_accuracy: 0.8321 - val_loss: 0.5249 - val_categorical_accuracy: 0.8208\n",
      "Epoch 3/10\n",
      "55000/55000 [==============================] - 7s 134us/step - loss: 0.4164 - categorical_accuracy: 0.8483 - val_loss: 0.5908 - val_categorical_accuracy: 0.8066\n",
      "Epoch 4/10\n",
      "55000/55000 [==============================] - 7s 131us/step - loss: 0.3892 - categorical_accuracy: 0.8584 - val_loss: 0.4935 - val_categorical_accuracy: 0.8306\n",
      "Epoch 5/10\n",
      "55000/55000 [==============================] - 7s 133us/step - loss: 0.3674 - categorical_accuracy: 0.8650 - val_loss: 0.4674 - val_categorical_accuracy: 0.8420\n",
      "Epoch 6/10\n",
      "55000/55000 [==============================] - 7s 121us/step - loss: 0.3524 - categorical_accuracy: 0.8709 - val_loss: 0.4819 - val_categorical_accuracy: 0.8402\n",
      "Epoch 7/10\n",
      "55000/55000 [==============================] - 7s 133us/step - loss: 0.3408 - categorical_accuracy: 0.8750 - val_loss: 0.4449 - val_categorical_accuracy: 0.8490\n",
      "Epoch 8/10\n",
      "55000/55000 [==============================] - 7s 133us/step - loss: 0.3281 - categorical_accuracy: 0.8804 - val_loss: 0.4222 - val_categorical_accuracy: 0.8484\n",
      "Epoch 9/10\n",
      "55000/55000 [==============================] - 8s 137us/step - loss: 0.3170 - categorical_accuracy: 0.8848 - val_loss: 0.4429 - val_categorical_accuracy: 0.8508\n",
      "Epoch 10/10\n",
      "55000/55000 [==============================] - 7s 134us/step - loss: 0.3097 - categorical_accuracy: 0.8864 - val_loss: 0.4261 - val_categorical_accuracy: 0.8498\n"
     ]
    }
   ],
   "source": [
    "import pandas as pd\n",
    "import util_mnist_reader as mnist_reader\n",
    "import numpy as np\n",
    "from keras.layers import Dense\n",
    "from keras.models import Sequential\n",
    "from sklearn.metrics import confusion_matrix\n",
    "from sklearn.metrics import classification_report\n",
    "from keras.optimizers import RMSprop, Adadelta, Adam\n",
    "from sklearn.metrics import accuracy_score\n",
    "from keras.utils import to_categorical\n",
    "import matplotlib.pyplot as plt\n",
    "\n",
    "X_train, y_train = mnist_reader.load_mnist('data/fashion', kind='train')\n",
    "X_test, y_test = mnist_reader.load_mnist('data/fashion', kind='t10k')\n",
    "\n",
    "X_train = X_train[5000:]\n",
    "y_train = y_train[5000:]\n",
    "\n",
    "X_val = X_train[:5000]\n",
    "y_val = y_train[:5000]\n",
    "\n",
    "#Normalization \n",
    "X_train = X_train/255.0\n",
    "X_test = X_test/255.0\n",
    "\n",
    "#Categorical data: Y(60000,)->(60000, 10)\n",
    "y_train = np.array(pd.get_dummies(y_train))\n",
    "y_val = np.array(pd.get_dummies(y_val))\n",
    "#print(y_train.shape)\n",
    "\n",
    "model = Sequential()\n",
    "model.add(Dense(128, input_dim=X_train.shape[1], activation='sigmoid'))\n",
    "model.add(Dense(128, activation='sigmoid'))\n",
    "model.add(Dense(10, activation='softmax'))\n",
    "\n",
    "model.summary()\n",
    "\n",
    "model.compile(optimizer=Adadelta(), loss='categorical_crossentropy', metrics=['categorical_accuracy'])\n",
    "history=model.fit(X_train, y_train, epochs=10, batch_size=64, validation_data=(X_val, y_val))\n",
    "\n",
    "Y_pred = model.predict(X_test, batch_size=64)\n",
    "\n",
    "y_train = np.argmax(y_train, axis=1)\n",
    "#Y_pred = np.argmax(Y_pred, axis=1)\n",
    "\n"
   ]
  },
  {
   "cell_type": "code",
   "execution_count": 23,
   "metadata": {},
   "outputs": [
    {
     "name": "stdout",
     "output_type": "stream",
     "text": [
      "[9 2 1 ... 8 1 5]\n",
      "[[0. 0. 0. ... 0. 0. 1.]\n",
      " [0. 0. 1. ... 0. 0. 0.]\n",
      " [0. 1. 0. ... 0. 0. 0.]\n",
      " ...\n",
      " [0. 0. 0. ... 0. 1. 0.]\n",
      " [0. 1. 0. ... 0. 0. 0.]\n",
      " [0. 0. 0. ... 0. 0. 0.]]\n"
     ]
    }
   ],
   "source": [
    "print(y_test)\n",
    "y_test = to_categorical(y_test)\n",
    "print(y_test)"
   ]
  },
  {
   "cell_type": "code",
   "execution_count": 24,
   "metadata": {},
   "outputs": [
    {
     "name": "stdout",
     "output_type": "stream",
     "text": [
      "[[864   8  23  36   4   1  51   0  13   0]\n",
      " [  0 980   1  15   2   0   1   0   1   0]\n",
      " [ 17   6 855  10  63   0  46   0   3   0]\n",
      " [ 21  43  23 858  34   0  17   0   4   0]\n",
      " [  0   2 163  27 755   0  50   0   3   0]\n",
      " [  0   0   0   1   0 938   0  36   2  23]\n",
      " [178  11 127  44  65   0 557   0  18   0]\n",
      " [  0   0   0   0   0  33   0 934   0  33]\n",
      " [  3   1   3   6   3   2   2   3 977   0]\n",
      " [  0   0   0   0   0   4   1  37   0 958]]\n",
      "             precision    recall  f1-score   support\n",
      "\n",
      "          0       0.80      0.86      0.83      1000\n",
      "          1       0.93      0.98      0.96      1000\n",
      "          2       0.72      0.85      0.78      1000\n",
      "          3       0.86      0.86      0.86      1000\n",
      "          4       0.82      0.76      0.78      1000\n",
      "          5       0.96      0.94      0.95      1000\n",
      "          6       0.77      0.56      0.65      1000\n",
      "          7       0.92      0.93      0.93      1000\n",
      "          8       0.96      0.98      0.97      1000\n",
      "          9       0.94      0.96      0.95      1000\n",
      "\n",
      "avg / total       0.87      0.87      0.86     10000\n",
      "\n"
     ]
    }
   ],
   "source": [
    "# print(confusion_matrix(y_test.argmax(axis=1), Y_pred.argmax(axis=1)))\n",
    "# print(classification_report(y_test.argmax(axis=1), Y_pred.argmax(axis=1)))\n",
    "print(confusion_matrix(y_test.argmax(axis=1),Y_pred.argmax(axis=1)))\n",
    "print(classification_report(y_test.argmax(axis=1), Y_pred.argmax(axis=1)))"
   ]
  },
  {
   "cell_type": "code",
   "execution_count": 25,
   "metadata": {},
   "outputs": [
    {
     "data": {
      "text/plain": [
       "dict_keys(['val_loss', 'categorical_accuracy', 'val_categorical_accuracy', 'loss'])"
      ]
     },
     "execution_count": 25,
     "metadata": {},
     "output_type": "execute_result"
    }
   ],
   "source": [
    "model.history.history.keys()"
   ]
  },
  {
   "cell_type": "code",
   "execution_count": 31,
   "metadata": {},
   "outputs": [
    {
     "data": {
      "image/png": "[encoded data removed]",
      "text/plain": [
       "<Figure size 432x288 with 1 Axes>"
      ]
     },
     "metadata": {},
     "output_type": "display_data"
    }
   ],
   "source": [
    "plt.plot(model.history.history['categorical_accuracy'])\n",
    "plt.plot(history.history['val_categorical_accuracy'])\n",
    "plt.title('Accuracy vrs Epoch')\n",
    "plt.ylabel('accuracy')\n",
    "plt.xlabel('epoch')\n",
    "plt.legend(['training', 'Validation'], loc='upper left')\n",
    "plt.show()"
   ]
  },
  {
   "cell_type": "code",
   "execution_count": 32,
   "metadata": {},
   "outputs": [
    {
     "data": {
      "image/png": "[encoded data removed]",
      "text/plain": [
       "<Figure size 432x288 with 1 Axes>"
      ]
     },
     "metadata": {},
     "output_type": "display_data"
    }
   ],
   "source": [
    "plt.plot(history.history['loss'])\n",
    "plt.plot(history.history['val_loss'])\n",
    "plt.title('Loss vrs Epoch')\n",
    "plt.ylabel('loss')\n",
    "plt.xlabel('epoch')\n",
    "plt.legend(['training', 'Validation'], loc='upper left')\n",
    "plt.show()"
   ]
  },
  {
   "cell_type": "code",
   "execution_count": null,
   "metadata": {},
   "outputs": [],
   "source": []
  }
 ],
 "metadata": {
  "kernelspec": {
   "display_name": "Python 3",
   "language": "python",
   "name": "python3"
  },
  "language_info": {
   "codemirror_mode": {
    "name": "ipython",
    "version": 3
   },
   "file_extension": ".py",
   "mimetype": "text/x-python",
   "name": "python",
   "nbconvert_exporter": "python",
   "pygments_lexer": "ipython3",
   "version": "3.5.5"
  }
 },
 "nbformat": 4,
 "nbformat_minor": 2
}
