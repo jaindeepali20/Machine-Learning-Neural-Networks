{
 "cells": [
  {
   "cell_type": "code",
   "execution_count": 1,
   "metadata": {},
   "outputs": [],
   "source": [
    "import numpy as np\n",
    "import pandas as pd\n",
    "import util_mnist_reader as mnist_reader\n",
    "import matplotlib.pyplot as plt\n",
    "from sklearn.metrics import confusion_matrix\n",
    "from sklearn.preprocessing import Normalizer ,StandardScaler\n",
    "from sklearn.metrics import accuracy_score\n",
    "from sklearn.metrics import classification_report"
   ]
  },
  {
   "cell_type": "code",
   "execution_count": 2,
   "metadata": {},
   "outputs": [],
   "source": [
    "X_train, y_train = mnist_reader.load_mnist('data/fashion', kind='train')\n",
    "X_test, y_test = mnist_reader.load_mnist('data/fashion', kind='t10k')"
   ]
  },
  {
   "cell_type": "code",
   "execution_count": 3,
   "metadata": {},
   "outputs": [],
   "source": [
    "#Splitting the training data\n",
    "X_train = X_train[5000:]\n",
    "y_train = y_train[5000:]\n",
    "\n",
    "X_val = X_train[:5000]\n",
    "y_val = y_train[:5000]"
   ]
  },
  {
   "cell_type": "code",
   "execution_count": 4,
   "metadata": {},
   "outputs": [],
   "source": [
    "#Normalization of Testing data\n",
    "X_train = X_train/255.0\n",
    "X_test = X_test/255.0"
   ]
  },
  {
   "cell_type": "code",
   "execution_count": 5,
   "metadata": {},
   "outputs": [],
   "source": [
    "#Categorical data: Y(60000,)->(60000, 10)\n",
    "y_train = np.array(pd.get_dummies(y_train))\n",
    "y_test = np.array(pd.get_dummies(y_test))\n",
    "y_val = np.array(pd.get_dummies(y_val))\n",
    "# Y = Y.reshape(60000, 10)"
   ]
  },
  {
   "cell_type": "code",
   "execution_count": 6,
   "metadata": {},
   "outputs": [],
   "source": [
    "#Hyperparameters\n",
    "epochs = 150\n",
    "learningrate = 0.6\n",
    "nodes = 256"
   ]
  },
  {
   "cell_type": "code",
   "execution_count": 7,
   "metadata": {},
   "outputs": [],
   "source": [
    "#Sigmoid Function: convert matrix values bewteen 0 to 1 \n",
    "def sigmoid_function(z): \n",
    "    return 1 / (1 + np.exp(-z)) "
   ]
  },
  {
   "cell_type": "code",
   "execution_count": 8,
   "metadata": {},
   "outputs": [],
   "source": [
    "#Derivative of Sigmoid Function\n",
    "def der_sigmoid(z): \n",
    "    return z * (1-z)"
   ]
  },
  {
   "cell_type": "code",
   "execution_count": 9,
   "metadata": {},
   "outputs": [],
   "source": [
    "#Softmax function: classes 1-10\n",
    "def softmax(z):\n",
    "    ans = np.exp(z)# - np.max(z))\n",
    "    return ans/np.sum(ans, axis=1, keepdims=True) "
   ]
  },
  {
   "cell_type": "code",
   "execution_count": 10,
   "metadata": {},
   "outputs": [],
   "source": [
    "def cost(x, y):\n",
    "    m = y.shape[0]\n",
    "    logp=y*np.log(x)\n",
    "    loss=-np.sum(logp)/m\n",
    "    return loss"
   ]
  },
  {
   "cell_type": "code",
   "execution_count": 11,
   "metadata": {},
   "outputs": [],
   "source": [
    "def accuracy(a2,Y):\n",
    "    acc = 0\n",
    "    for i in range(len(Y)):\n",
    "        if(a2[i].argmax()==Y[i].argmax()):\n",
    "            acc=acc+1\n",
    "    \n",
    "    acc=acc/a2.shape[0]\n",
    "    return acc"
   ]
  },
  {
   "cell_type": "code",
   "execution_count": 12,
   "metadata": {},
   "outputs": [],
   "source": [
    "#Weights\n",
    "w1 = np.random.randn(X_train.shape[1], nodes)\n",
    "w2 = np.random.randn(nodes, 10)\n",
    "\n",
    "#Baises\n",
    "b1 = np.random.randn(1, nodes)\n",
    "b2 = np.random.randn(1, 10)"
   ]
  },
  {
   "cell_type": "code",
   "execution_count": 13,
   "metadata": {},
   "outputs": [],
   "source": [
    "#Initialising lists to plot graph\n",
    "loss = []\n",
    "losstrack = []\n",
    "losstrack_v = []\n",
    "accuracy_score_log_train = []\n",
    "#accuracy_score_log_test = []\n",
    "accuracy_score_log_val = []"
   ]
  },
  {
   "cell_type": "code",
   "execution_count": 14,
   "metadata": {},
   "outputs": [],
   "source": [
    "def forward_feed():\n",
    "    z1 = np.dot(X_train, w1) + b1  \n",
    "    a1 = sigmoid_function(z1) \n",
    "    z2 = np.dot(a1, w2) + b2          \n",
    "    a2 = softmax(z2)\n",
    "    return a2,a1"
   ]
  },
  {
   "cell_type": "code",
   "execution_count": 15,
   "metadata": {},
   "outputs": [
    {
     "name": "stdout",
     "output_type": "stream",
     "text": [
      "0\n",
      "0.135\n",
      "1\n",
      "0.2008\n",
      "2\n",
      "0.2422\n",
      "3\n",
      "0.2934\n",
      "4\n",
      "0.355\n",
      "5\n",
      "0.3382\n",
      "6\n",
      "0.3786\n",
      "7\n",
      "0.3894\n",
      "8\n",
      "0.4344\n",
      "9\n",
      "0.424\n",
      "10\n",
      "0.458\n",
      "11\n",
      "0.4708\n",
      "12\n",
      "0.4882\n",
      "13\n",
      "0.49\n",
      "14\n",
      "0.494\n",
      "15\n",
      "0.5102\n",
      "16\n",
      "0.5152\n",
      "17\n",
      "0.512\n",
      "18\n",
      "0.5154\n",
      "19\n",
      "0.5276\n",
      "20\n",
      "0.543\n",
      "21\n",
      "0.5416\n",
      "22\n",
      "0.5588\n",
      "23\n",
      "0.544\n",
      "24\n",
      "0.5694\n",
      "25\n",
      "0.5604\n",
      "26\n",
      "0.5754\n",
      "27\n",
      "0.5576\n",
      "28\n",
      "0.585\n",
      "29\n",
      "0.56\n",
      "30\n",
      "0.5878\n",
      "31\n",
      "0.561\n",
      "32\n",
      "0.5948\n",
      "33\n",
      "0.5714\n",
      "34\n",
      "0.5964\n",
      "35\n",
      "0.5774\n",
      "36\n",
      "0.603\n",
      "37\n",
      "0.5822\n",
      "38\n",
      "0.608\n",
      "39\n",
      "0.5858\n",
      "40\n",
      "0.6136\n",
      "41\n",
      "0.5858\n",
      "42\n",
      "0.6172\n",
      "43\n",
      "0.5914\n",
      "44\n",
      "0.6198\n",
      "45\n",
      "0.594\n",
      "46\n",
      "0.624\n",
      "47\n",
      "0.6004\n",
      "48\n",
      "0.6298\n",
      "49\n",
      "0.605\n",
      "50\n",
      "0.6308\n",
      "51\n",
      "0.6104\n",
      "52\n",
      "0.634\n",
      "53\n",
      "0.6158\n",
      "54\n",
      "0.637\n",
      "55\n",
      "0.618\n",
      "56\n",
      "0.6384\n",
      "57\n",
      "0.6214\n",
      "58\n",
      "0.6414\n",
      "59\n",
      "0.6282\n",
      "60\n",
      "0.6476\n",
      "61\n",
      "0.6314\n",
      "62\n",
      "0.6514\n",
      "63\n",
      "0.6358\n",
      "64\n",
      "0.654\n",
      "65\n",
      "0.638\n",
      "66\n",
      "0.6582\n",
      "67\n",
      "0.6392\n",
      "68\n",
      "0.6596\n",
      "69\n",
      "0.6406\n",
      "70\n",
      "0.6594\n",
      "71\n",
      "0.642\n",
      "72\n",
      "0.6646\n",
      "73\n",
      "0.6434\n",
      "74\n",
      "0.667\n",
      "75\n",
      "0.645\n",
      "76\n",
      "0.6678\n",
      "77\n",
      "0.6472\n",
      "78\n",
      "0.6672\n",
      "79\n",
      "0.6496\n",
      "80\n",
      "0.669\n",
      "81\n",
      "0.6496\n",
      "82\n",
      "0.669\n",
      "83\n",
      "0.6514\n",
      "84\n",
      "0.6692\n",
      "85\n",
      "0.6544\n",
      "86\n",
      "0.6698\n",
      "87\n",
      "0.6526\n",
      "88\n",
      "0.6694\n",
      "89\n",
      "0.6558\n",
      "90\n",
      "0.672\n",
      "91\n",
      "0.6572\n",
      "92\n",
      "0.6762\n",
      "93\n",
      "0.6604\n",
      "94\n",
      "0.677\n",
      "95\n",
      "0.6602\n",
      "96\n",
      "0.6756\n",
      "97\n",
      "0.6596\n",
      "98\n",
      "0.6756\n",
      "99\n",
      "0.6636\n",
      "100\n",
      "0.6758\n",
      "101\n",
      "0.664\n",
      "102\n",
      "0.6766\n",
      "103\n",
      "0.6638\n",
      "104\n",
      "0.678\n",
      "105\n",
      "0.6628\n",
      "106\n",
      "0.6788\n",
      "107\n",
      "0.6628\n",
      "108\n",
      "0.6794\n",
      "109\n",
      "0.6656\n",
      "110\n",
      "0.6798\n",
      "111\n",
      "0.664\n",
      "112\n",
      "0.6804\n",
      "113\n",
      "0.664\n",
      "114\n",
      "0.683\n",
      "115\n",
      "0.6658\n",
      "116\n",
      "0.6828\n",
      "117\n",
      "0.6674\n",
      "118\n",
      "0.6864\n",
      "119\n",
      "0.668\n",
      "120\n",
      "0.6884\n",
      "121\n",
      "0.6692\n",
      "122\n",
      "0.6874\n",
      "123\n",
      "0.669\n",
      "124\n",
      "0.6878\n",
      "125\n",
      "0.6714\n",
      "126\n",
      "0.6892\n",
      "127\n",
      "0.6712\n",
      "128\n",
      "0.6898\n",
      "129\n",
      "0.6708\n",
      "130\n",
      "0.6888\n",
      "131\n",
      "0.672\n",
      "132\n",
      "0.6892\n",
      "133\n",
      "0.6722\n",
      "134\n",
      "0.6888\n",
      "135\n",
      "0.6728\n",
      "136\n",
      "0.688\n",
      "137\n",
      "0.6722\n",
      "138\n",
      "0.6894\n",
      "139\n",
      "0.6722\n",
      "140\n",
      "0.6906\n",
      "141\n",
      "0.6732\n",
      "142\n",
      "0.6906\n",
      "143\n",
      "0.6748\n",
      "144\n",
      "0.6928\n",
      "145\n",
      "0.6732\n",
      "146\n",
      "0.694\n",
      "147\n",
      "0.6752\n",
      "148\n",
      "0.695\n",
      "149\n",
      "0.677\n"
     ]
    }
   ],
   "source": [
    "for epoch in range(epochs):  \n",
    "    a2,a1 = forward_feed()\n",
    "    losstrack_train = cost(a2, y_train)\n",
    "    losstrack.append(losstrack_train)\n",
    "    \n",
    "    Y_true = np.argmax(y_train, axis=1)\n",
    "    Y_pred = np.argmax(a2, axis=1)\n",
    "    \n",
    "    a2_minus_Y = a2-y_train\n",
    "    \n",
    "    dc_dw2 = np.dot(np.transpose(a2_minus_Y),a1)\n",
    "    dc_dw2 = dc_dw2/X_train.shape[0]\n",
    "    \n",
    "    dc_db2 = a2_minus_Y\n",
    "    \n",
    "    dc_dw1 = np.dot(np.transpose(np.dot(a2_minus_Y,np.transpose(w2)) * der_sigmoid(a1)),X_train)/X_train.shape[0]\n",
    "    \n",
    "    dc_db1 = np.transpose(np.dot(a2_minus_Y,np.transpose(w2)) * der_sigmoid(a1))/X_train.shape[0]\n",
    "    \n",
    "    w2 = w2 - learningrate * np.transpose(dc_dw2)\n",
    "    b2 = b2 - learningrate * np.sum(dc_db2, axis=0)/60000  \n",
    "    \n",
    "    w1 = w1 - (np.transpose(dc_dw1))*learningrate\n",
    "    #w2 = w2 - (np.transpose(dc_dw2))*learningrate\n",
    "    b1 = b1 - (np.transpose(np.sum(dc_db1)))*learningrate/60000\n",
    "    #db2_sum = np.sum(dc_db2)\n",
    "    \n",
    "    #db2_sum = np.array(pd.get_dummies(db2_sum))\n",
    "    \n",
    "    #b2 = b2 - (db2_sum.T)*learningrate\n",
    "    \n",
    "    #Validation data\n",
    "    z1_val = np.dot(X_val, w1) + b1\n",
    "    a1_val = sigmoid_function(z1_val) \n",
    "    z2_val = np.dot(a1_val, w2) + b2          \n",
    "    a2_val = softmax(z2_val)\n",
    "    \n",
    "    accuracy_score_train = accuracy(a2, y_train)\n",
    "    accuracy_score_log_train.append(accuracy_score_train)\n",
    "#     print(epoch)\n",
    "#     print(accuracy_score_train)\n",
    "    accuracy_score_val = accuracy(a2_val, y_val)\n",
    "    accuracy_score_log_val.append(accuracy_score_val)\n",
    "    print(epoch)\n",
    "    print(accuracy_score_val)\n",
    "    \n",
    "    losstrack_val = cost(a2_val, y_val)\n",
    "    losstrack_v.append(losstrack_val)"
   ]
  },
  {
   "cell_type": "code",
   "execution_count": 16,
   "metadata": {},
   "outputs": [
    {
     "name": "stdout",
     "output_type": "stream",
     "text": [
      "0.7182\n"
     ]
    }
   ],
   "source": [
    "#Calculating accuracy for test data -> building forward pass\n",
    "z1_test = np.dot(X_test, w1) + b1\n",
    "a1_test = sigmoid_function(z1_test) \n",
    "z2_test = np.dot(a1_test, w2) + b2          \n",
    "a2_test = softmax(z2_test)\n",
    "    \n",
    "accuracy_score_test = accuracy(a2_test, y_test)\n",
    "print(accuracy_score_test)"
   ]
  },
  {
   "cell_type": "code",
   "execution_count": 17,
   "metadata": {},
   "outputs": [],
   "source": [
    "#Calculating accuracy for Validation data -> building forward pass\n",
    "# z1_val = np.dot(X_val, w1) + b1\n",
    "# a1_val = sigmoid_function(z1_val) \n",
    "# z2_val = np.dot(a1_val, w2) + b2          \n",
    "# a2_val = softmax(z2_val)\n",
    "    \n",
    "# accuracy_score_val = accuracy(a2_val, y_val)\n",
    "# accuracy_score_log_val.append(accuracy_score_val)\n",
    "# print(accuracy_score_val)"
   ]
  },
  {
   "cell_type": "code",
   "execution_count": 18,
   "metadata": {},
   "outputs": [
    {
     "name": "stdout",
     "output_type": "stream",
     "text": [
      "[[4531   87  328  399   24   27   25    5  111    6]\n",
      " [  98 4941  130  241   13    7    0    1   11    2]\n",
      " [ 188   14 4547   78  476   29   23    9  127    5]\n",
      " [ 511  168  143 4406  203   11    9    4   44    0]\n",
      " [ 116   55 1855  382 2948    9   43    2   99    3]\n",
      " [  50   18   36   33    4 4508    5  477  133  243]\n",
      " [1456   41 2184  342  755   35  449    9  234    2]\n",
      " [   0    3    8    1    0  405    0 4577   45  449]\n",
      " [  80   11  244   80   45  132   14   54 4797   53]\n",
      " [  10    9   19   18    1  249    1  366   18 4803]]\n"
     ]
    }
   ],
   "source": [
    "print (confusion_matrix(Y_true, Y_pred))"
   ]
  },
  {
   "cell_type": "code",
   "execution_count": 19,
   "metadata": {},
   "outputs": [
    {
     "name": "stdout",
     "output_type": "stream",
     "text": [
      "             precision    recall  f1-score   support\n",
      "\n",
      "          0       0.64      0.82      0.72      5543\n",
      "          1       0.92      0.91      0.92      5444\n",
      "          2       0.48      0.83      0.61      5496\n",
      "          3       0.74      0.80      0.77      5499\n",
      "          4       0.66      0.53      0.59      5512\n",
      "          5       0.83      0.82      0.83      5507\n",
      "          6       0.79      0.08      0.15      5507\n",
      "          7       0.83      0.83      0.83      5488\n",
      "          8       0.85      0.87      0.86      5510\n",
      "          9       0.86      0.87      0.87      5494\n",
      "\n",
      "avg / total       0.76      0.74      0.71     55000\n",
      "\n"
     ]
    }
   ],
   "source": [
    "print(classification_report(Y_true, Y_pred))"
   ]
  },
  {
   "cell_type": "code",
   "execution_count": null,
   "metadata": {},
   "outputs": [],
   "source": []
  },
  {
   "cell_type": "code",
   "execution_count": 20,
   "metadata": {},
   "outputs": [
    {
     "data": {
      "image/png": "[encoded data removed]",
      "text/plain": [
       "<Figure size 432x288 with 1 Axes>"
      ]
     },
     "metadata": {},
     "output_type": "display_data"
    }
   ],
   "source": [
    "plt.plot(losstrack)\n",
    "plt.plot(losstrack_v)\n",
    "plt.xlabel('Epochs')\n",
    "plt.ylabel('Loss')\n",
    "plt.title('Loss vrs Epochs')\n",
    "plt.legend(['training', 'Validation'], loc='upper left')\n",
    "plt.show() \n"
   ]
  },
  {
   "cell_type": "code",
   "execution_count": 21,
   "metadata": {},
   "outputs": [
    {
     "data": {
      "text/plain": [
       "150"
      ]
     },
     "execution_count": 21,
     "metadata": {},
     "output_type": "execute_result"
    }
   ],
   "source": [
    "len(accuracy_score_log_val)"
   ]
  },
  {
   "cell_type": "code",
   "execution_count": 25,
   "metadata": {},
   "outputs": [
    {
     "data": {
      "image/png": "[encoded data removed]",
      "text/plain": [
       "<Figure size 432x288 with 1 Axes>"
      ]
     },
     "metadata": {},
     "output_type": "display_data"
    }
   ],
   "source": [
    "plt.plot(accuracy_score_log_train)\n",
    "plt.plot(accuracy_score_log_val)\n",
    "plt.xlabel('Epochs')\n",
    "plt.ylabel('Accuracy')\n",
    "plt.title('Accuracy of vrs Epochs')\n",
    "plt.legend(['training', 'Validation'], loc='lower right')\n",
    "plt.show()"
   ]
  },
  {
   "cell_type": "code",
   "execution_count": null,
   "metadata": {},
   "outputs": [],
   "source": []
  }
 ],
 "metadata": {
  "kernelspec": {
   "display_name": "Python 3",
   "language": "python",
   "name": "python3"
  },
  "language_info": {
   "codemirror_mode": {
    "name": "ipython",
    "version": 3
   },
   "file_extension": ".py",
   "mimetype": "text/x-python",
   "name": "python",
   "nbconvert_exporter": "python",
   "pygments_lexer": "ipython3",
   "version": "3.5.5"
  }
 },
 "nbformat": 4,
 "nbformat_minor": 2
}
