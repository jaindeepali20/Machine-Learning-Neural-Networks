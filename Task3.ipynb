{
 "cells": [
  {
   "cell_type": "code",
   "execution_count": 69,
   "metadata": {},
   "outputs": [],
   "source": [
    "import util_mnist_reader as mnist_reader\n",
    "import keras\n",
    "import numpy as np\n",
    "import matplotlib.pyplot as plt\n",
    "from keras.datasets import fashion_mnist \n",
    "from keras.layers import Dense, Activation, Flatten, Conv2D, MaxPooling2D\n",
    "from keras.models import Sequential\n",
    "from keras.utils import to_categorical\n",
    "from sklearn.metrics import confusion_matrix\n",
    "from sklearn.metrics import classification_report"
   ]
  },
  {
   "cell_type": "code",
   "execution_count": 58,
   "metadata": {},
   "outputs": [],
   "source": [
    "#(X_train, y_train), (X_test, y_test) = fashion_mnist.load_data()\n",
    "\n",
    "X_train, y_train = mnist_reader.load_mnist('data/fashion', kind='train')\n",
    "X_test, y_test = mnist_reader.load_mnist('data/fashion', kind='t10k')"
   ]
  },
  {
   "cell_type": "code",
   "execution_count": 59,
   "metadata": {},
   "outputs": [],
   "source": [
    "X_train = X_train.reshape(-1, 28,28, 1)\n",
    "X_test = X_test.reshape(-1, 28,28, 1)"
   ]
  },
  {
   "cell_type": "code",
   "execution_count": 60,
   "metadata": {},
   "outputs": [],
   "source": [
    "X_train = X_train.astype('float32')\n",
    "X_test = X_test.astype('float32')\n",
    "X_train = X_train / 255\n",
    "X_test = X_test / 255"
   ]
  },
  {
   "cell_type": "code",
   "execution_count": 61,
   "metadata": {},
   "outputs": [],
   "source": [
    "y_train = to_categorical(y_train)\n",
    "y_test = to_categorical(y_test)"
   ]
  },
  {
   "cell_type": "code",
   "execution_count": 62,
   "metadata": {},
   "outputs": [],
   "source": [
    "model = Sequential()\n",
    "model.add(Conv2D(64, (3,3), input_shape=(28, 28, 1)))\n",
    "model.add(Activation('relu'))\n",
    "model.add(MaxPooling2D(pool_size=(2,2)))\n",
    "model.add(Conv2D(64, (3,3)))\n",
    "model.add(Activation('relu'))\n",
    "model.add(MaxPooling2D(pool_size=(2,2)))\n",
    "model.add(Flatten())\n",
    "model.add(Dense(64))\n",
    "model.add(Dense(10))\n",
    "model.add(Activation('softmax'))\n",
    "model.compile(loss=keras.losses.categorical_crossentropy, optimizer=keras.optimizers.Adam(),metrics=['accuracy'])\n",
    "\n",
    "X_train = X_train[5000:]\n",
    "y_train = y_train[5000:]\n",
    "\n",
    "X_val = X_train[:5000]\n",
    "y_val = y_train[:5000]"
   ]
  },
  {
   "cell_type": "code",
   "execution_count": 73,
   "metadata": {},
   "outputs": [
    {
     "name": "stdout",
     "output_type": "stream",
     "text": [
      "Train on 55000 samples, validate on 5000 samples\n",
      "Epoch 1/5\n",
      "55000/55000 [==============================] - 46s 839us/step - loss: 0.3000 - acc: 0.8919 - val_loss: 0.2817 - val_acc: 0.9004\n",
      "Epoch 2/5\n",
      "55000/55000 [==============================] - 46s 845us/step - loss: 0.2858 - acc: 0.8983 - val_loss: 0.2682 - val_acc: 0.9038\n",
      "Epoch 3/5\n",
      "55000/55000 [==============================] - 50s 907us/step - loss: 0.2725 - acc: 0.9025 - val_loss: 0.2610 - val_acc: 0.9092\n",
      "Epoch 4/5\n",
      "55000/55000 [==============================] - 51s 931us/step - loss: 0.2627 - acc: 0.9060 - val_loss: 0.2437 - val_acc: 0.9120\n",
      "Epoch 5/5\n",
      "55000/55000 [==============================] - 51s 930us/step - loss: 0.2553 - acc: 0.9088 - val_loss: 0.2390 - val_acc: 0.9110\n"
     ]
    }
   ],
   "source": [
    "history = model.fit(X_train, y_train, epochs=5, batch_size=600, validation_data=(X_val, y_val))"
   ]
  },
  {
   "cell_type": "code",
   "execution_count": 74,
   "metadata": {},
   "outputs": [
    {
     "name": "stdout",
     "output_type": "stream",
     "text": [
      "10000/10000 [==============================] - 2s 237us/step\n",
      "Test loss 0.2888911596894264\n",
      "Test accuracy 0.8947\n"
     ]
    }
   ],
   "source": [
    "test_loss, test_acc = model.evaluate(X_test, y_test)\n",
    "print('Test loss', test_loss)\n",
    "print('Test accuracy', test_acc)"
   ]
  },
  {
   "cell_type": "code",
   "execution_count": 75,
   "metadata": {},
   "outputs": [
    {
     "name": "stdout",
     "output_type": "stream",
     "text": [
      "9\n"
     ]
    }
   ],
   "source": [
    "predictions = model.predict(X_test)\n",
    "print(np.argmax(np.round(predictions[0])))"
   ]
  },
  {
   "cell_type": "code",
   "execution_count": 76,
   "metadata": {},
   "outputs": [
    {
     "name": "stdout",
     "output_type": "stream",
     "text": [
      "[[871   0  26  15   3   1  80   0   4   0]\n",
      " [  1 978   2  13   3   0   1   0   2   0]\n",
      " [ 15   0 889   8  34   0  53   0   1   0]\n",
      " [ 24  11  20 884  21   1  37   0   2   0]\n",
      " [  2   1  93  29 794   0  81   0   0   0]\n",
      " [  0   0   0   0   0 976   0  17   0   7]\n",
      " [156   2  97  18  57   0 659   0  11   0]\n",
      " [  0   0   0   0   0  12   0 967   1  20]\n",
      " [  4   1   9   3   1   3   8   4 967   0]\n",
      " [  1   0   0   0   0   4   0  33   0 962]]\n",
      "             precision    recall  f1-score   support\n",
      "\n",
      "          0       0.81      0.87      0.84      1000\n",
      "          1       0.98      0.98      0.98      1000\n",
      "          2       0.78      0.89      0.83      1000\n",
      "          3       0.91      0.88      0.90      1000\n",
      "          4       0.87      0.79      0.83      1000\n",
      "          5       0.98      0.98      0.98      1000\n",
      "          6       0.72      0.66      0.69      1000\n",
      "          7       0.95      0.97      0.96      1000\n",
      "          8       0.98      0.97      0.97      1000\n",
      "          9       0.97      0.96      0.97      1000\n",
      "\n",
      "avg / total       0.90      0.89      0.89     10000\n",
      "\n"
     ]
    }
   ],
   "source": [
    "# Y_pred = np.argmax(test_Y_one_hot, axis=1)\n",
    "# confusion_matrix(test_Y, Y_pred)\n",
    "# Y_pred = model.predict(X_test, batch_size=64)\n",
    "# Y_pred = np.argmax(Y_pred, axis=1)\n",
    "# test_Y = to_categorical(y_test)\n",
    "#confusion_matrix(to_categorical(test_Y), model.predict(test_X, batch_size=64).argmax(axis=1))\n",
    "# print(confusion_matrix(Y_pred, y_test.argmax(axis=1)))\n",
    "# train_Y_one_hot = np.argmax(train_Y_one_hot, axis=1)\n",
    "\n",
    "Y_pred = model.predict(X_test, batch_size=64)\n",
    "print(confusion_matrix(y_test.argmax(axis=1),Y_pred.argmax(axis=1)))\n",
    "print(classification_report(y_test.argmax(axis=1), Y_pred.argmax(axis=1)))"
   ]
  },
  {
   "cell_type": "code",
   "execution_count": 77,
   "metadata": {},
   "outputs": [
    {
     "data": {
      "image/png": "[encoded data removed]",
      "text/plain": [
       "<Figure size 432x288 with 1 Axes>"
      ]
     },
     "metadata": {},
     "output_type": "display_data"
    }
   ],
   "source": [
    "plt.imshow(X_test[0].reshape(28, 28), cmap = plt.cm.binary)\n",
    "plt.show()"
   ]
  },
  {
   "cell_type": "code",
   "execution_count": 78,
   "metadata": {},
   "outputs": [
    {
     "data": {
      "text/plain": [
       "dict_keys(['acc', 'val_acc', 'val_loss', 'loss'])"
      ]
     },
     "execution_count": 78,
     "metadata": {},
     "output_type": "execute_result"
    }
   ],
   "source": [
    "model.history.history.keys()"
   ]
  },
  {
   "cell_type": "code",
   "execution_count": 85,
   "metadata": {},
   "outputs": [
    {
     "data": {
      "image/png": "[encoded data removed]",
      "text/plain": [
       "<Figure size 432x288 with 1 Axes>"
      ]
     },
     "metadata": {},
     "output_type": "display_data"
    }
   ],
   "source": [
    "plt.plot(model.history.history['acc'])\n",
    "plt.plot(history.history['val_acc'])\n",
    "plt.ylabel('Accuracy')\n",
    "plt.xlabel('For each Epoch')\n",
    "plt.title('Accuracy vrs Epoch')\n",
    "plt.legend(['training data', 'Validation data'], loc='upper left')\n",
    "plt.show()"
   ]
  },
  {
   "cell_type": "code",
   "execution_count": 86,
   "metadata": {},
   "outputs": [
    {
     "data": {
      "image/png": "[encoded data removed]",
      "text/plain": [
       "<Figure size 432x288 with 1 Axes>"
      ]
     },
     "metadata": {},
     "output_type": "display_data"
    }
   ],
   "source": [
    "plt.plot(history.history['loss'])\n",
    "plt.plot(history.history['val_loss'])\n",
    "plt.ylabel('Loss')\n",
    "plt.xlabel('For each Epoch')\n",
    "plt.title('Loss vrs Epoch')\n",
    "plt.legend(['training data', 'Validation data'], loc='upper right')\n",
    "plt.show()"
   ]
  },
  {
   "cell_type": "code",
   "execution_count": null,
   "metadata": {},
   "outputs": [],
   "source": []
  }
 ],
 "metadata": {
  "kernelspec": {
   "display_name": "Python 3",
   "language": "python",
   "name": "python3"
  },
  "language_info": {
   "codemirror_mode": {
    "name": "ipython",
    "version": 3
   },
   "file_extension": ".py",
   "mimetype": "text/x-python",
   "name": "python",
   "nbconvert_exporter": "python",
   "pygments_lexer": "ipython3",
   "version": "3.5.5"
  }
 },
 "nbformat": 4,
 "nbformat_minor": 2
}
